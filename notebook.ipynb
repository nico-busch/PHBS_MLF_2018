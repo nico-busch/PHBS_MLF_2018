{
 "cells": [
  {
   "cell_type": "markdown",
   "metadata": {},
   "source": [
    "# Predicting Stock Movements by Analyzing News Data"
   ]
  },
  {
   "cell_type": "markdown",
   "metadata": {},
   "source": [
    "## Importing Packages"
   ]
  },
  {
   "cell_type": "code",
   "execution_count": 1,
   "metadata": {},
   "outputs": [],
   "source": [
    "# import packages\n",
    "\n",
    "import numpy as np\n",
    "import pandas as pd\n",
    "import matplotlib.pyplot as plt\n",
    "import seaborn as sns\n",
    "import sklearn as sk\n",
    "\n",
    "# options\n",
    "\n",
    "pd.set_option('display.max_columns', None)"
   ]
  },
  {
   "cell_type": "markdown",
   "metadata": {},
   "source": [
    "## Preparing the News Data"
   ]
  },
  {
   "cell_type": "code",
   "execution_count": 2,
   "metadata": {},
   "outputs": [
    {
     "name": "stderr",
     "output_type": "stream",
     "text": [
      "C:\\Users\\nicol\\Anaconda3\\lib\\site-packages\\IPython\\core\\interactiveshell.py:2785: DtypeWarning: Columns (3) have mixed types. Specify dtype option on import or set low_memory=False.\n",
      "  interactivity=interactivity, compiler=compiler, result=result)\n"
     ]
    },
    {
     "name": "stdout",
     "output_type": "stream",
     "text": [
      "<class 'pandas.core.frame.DataFrame'>\n",
      "RangeIndex: 823480 entries, 0 to 823479\n",
      "Data columns (total 48 columns):\n",
      "TIMESTAMP_UTC           823480 non-null object\n",
      "RPNA_DATE_UTC           823480 non-null object\n",
      "RPNA_TIME_UTC           823480 non-null object\n",
      "RP_ENTITY_ID            823480 non-null object\n",
      "ENTITY_TYPE             823480 non-null object\n",
      "ENTITY_NAME             823480 non-null object\n",
      "POSITION_NAME           5568 non-null object\n",
      "RP_POSITION_ID          5568 non-null object\n",
      "COUNTRY_CODE            823480 non-null object\n",
      "RELEVANCE               823480 non-null int64\n",
      "TOPIC                   45300 non-null object\n",
      "GROUP                   45300 non-null object\n",
      "TYPE                    45300 non-null object\n",
      "SUB_TYPE                21440 non-null object\n",
      "PROPERTY                14679 non-null object\n",
      "EVALUATION_METHOD       0 non-null float64\n",
      "MATURITY                0 non-null float64\n",
      "CATEGORY                45300 non-null object\n",
      "ESS                     45300 non-null float64\n",
      "AES                     823480 non-null int64\n",
      "AEV                     823480 non-null int64\n",
      "ENS                     45300 non-null float64\n",
      "ENS_SIMILARITY_GAP      45300 non-null float64\n",
      "ENS_KEY                 45300 non-null object\n",
      "ENS_ELAPSED             45300 non-null float64\n",
      "G_ENS                   45300 non-null float64\n",
      "G_ENS_SIMILARITY_GAP    45300 non-null float64\n",
      "G_ENS_KEY               45300 non-null object\n",
      "G_ENS_ELAPSED           45300 non-null float64\n",
      "EVENT_SIMILARITY_KEY    45300 non-null object\n",
      "NEWS_TYPE               823480 non-null object\n",
      "SOURCE                  823480 non-null object\n",
      "RP_STORY_ID             823480 non-null object\n",
      "RP_STORY_EVENT_INDEX    823480 non-null int64\n",
      "RP_STORY_EVENT_COUNT    823480 non-null int64\n",
      "PRODUCT_KEY             823480 non-null object\n",
      "COMPANY                 823480 non-null object\n",
      "ISIN                    823480 non-null object\n",
      "CSS                     823480 non-null int64\n",
      "NIP                     823480 non-null int64\n",
      "PEQ                     823480 non-null int64\n",
      "BEE                     823480 non-null int64\n",
      "BMQ                     823480 non-null int64\n",
      "BAM                     823480 non-null int64\n",
      "BCA                     823480 non-null int64\n",
      "BER                     823480 non-null int64\n",
      "ANL_CHG                 823480 non-null int64\n",
      "MCQ                     823480 non-null int64\n",
      "dtypes: float64(9), int64(15), object(24)\n",
      "memory usage: 301.6+ MB\n"
     ]
    }
   ],
   "source": [
    "# import news data\n",
    "\n",
    "df_news = pd.read_csv('data/news_data.csv')\n",
    "df_news.info()"
   ]
  },
  {
   "cell_type": "code",
   "execution_count": 3,
   "metadata": {
    "scrolled": true
   },
   "outputs": [],
   "source": [
    "# change formats\n",
    "\n",
    "df_news['TICKER'] = df_news['COMPANY'].str[3:]\n",
    "df_news['TIMESTAMP_UTC'] = pd.to_datetime(df_news['TIMESTAMP_UTC'], utc = True)\n",
    "df_news['RPNA_DATE_UTC'] = df_news['TIMESTAMP_UTC'].dt.date\n",
    "df_news['RPNA_TIME_UTC'] = df_news['TIMESTAMP_UTC'].dt.time"
   ]
  },
  {
   "cell_type": "code",
   "execution_count": 4,
   "metadata": {},
   "outputs": [
    {
     "data": {
      "text/html": [
       "<div>\n",
       "<style scoped>\n",
       "    .dataframe tbody tr th:only-of-type {\n",
       "        vertical-align: middle;\n",
       "    }\n",
       "\n",
       "    .dataframe tbody tr th {\n",
       "        vertical-align: top;\n",
       "    }\n",
       "\n",
       "    .dataframe thead th {\n",
       "        text-align: right;\n",
       "    }\n",
       "</style>\n",
       "<table border=\"1\" class=\"dataframe\">\n",
       "  <thead>\n",
       "    <tr style=\"text-align: right;\">\n",
       "      <th></th>\n",
       "      <th>TIMESTAMP_EST</th>\n",
       "      <th>NEXT_MARKET_DATE</th>\n",
       "      <th>NEXT_MARKET_CLOSE</th>\n",
       "      <th>TIME_TO_CLOSE</th>\n",
       "    </tr>\n",
       "  </thead>\n",
       "  <tbody>\n",
       "    <tr>\n",
       "      <th>0</th>\n",
       "      <td>2016-01-01 05:30:01.663000-05:00</td>\n",
       "      <td>2016-01-04</td>\n",
       "      <td>2016-01-04 16:00:00-05:00</td>\n",
       "      <td>3 days 10:29:58.337000</td>\n",
       "    </tr>\n",
       "    <tr>\n",
       "      <th>1</th>\n",
       "      <td>2016-01-01 05:44:40.104000-05:00</td>\n",
       "      <td>2016-01-04</td>\n",
       "      <td>2016-01-04 16:00:00-05:00</td>\n",
       "      <td>3 days 10:15:19.896000</td>\n",
       "    </tr>\n",
       "    <tr>\n",
       "      <th>2</th>\n",
       "      <td>2016-01-03 18:35:51.992000-05:00</td>\n",
       "      <td>2016-01-04</td>\n",
       "      <td>2016-01-04 16:00:00-05:00</td>\n",
       "      <td>0 days 21:24:08.008000</td>\n",
       "    </tr>\n",
       "    <tr>\n",
       "      <th>3</th>\n",
       "      <td>2016-01-04 00:08:02.003000-05:00</td>\n",
       "      <td>2016-01-04</td>\n",
       "      <td>2016-01-04 16:00:00-05:00</td>\n",
       "      <td>0 days 15:51:57.997000</td>\n",
       "    </tr>\n",
       "    <tr>\n",
       "      <th>4</th>\n",
       "      <td>2016-01-04 02:05:01.705000-05:00</td>\n",
       "      <td>2016-01-04</td>\n",
       "      <td>2016-01-04 16:00:00-05:00</td>\n",
       "      <td>0 days 13:54:58.295000</td>\n",
       "    </tr>\n",
       "  </tbody>\n",
       "</table>\n",
       "</div>"
      ],
      "text/plain": [
       "                     TIMESTAMP_EST NEXT_MARKET_DATE         NEXT_MARKET_CLOSE  \\\n",
       "0 2016-01-01 05:30:01.663000-05:00       2016-01-04 2016-01-04 16:00:00-05:00   \n",
       "1 2016-01-01 05:44:40.104000-05:00       2016-01-04 2016-01-04 16:00:00-05:00   \n",
       "2 2016-01-03 18:35:51.992000-05:00       2016-01-04 2016-01-04 16:00:00-05:00   \n",
       "3 2016-01-04 00:08:02.003000-05:00       2016-01-04 2016-01-04 16:00:00-05:00   \n",
       "4 2016-01-04 02:05:01.705000-05:00       2016-01-04 2016-01-04 16:00:00-05:00   \n",
       "\n",
       "           TIME_TO_CLOSE  \n",
       "0 3 days 10:29:58.337000  \n",
       "1 3 days 10:15:19.896000  \n",
       "2 0 days 21:24:08.008000  \n",
       "3 0 days 15:51:57.997000  \n",
       "4 0 days 13:54:58.295000  "
      ]
     },
     "execution_count": 4,
     "metadata": {},
     "output_type": "execute_result"
    }
   ],
   "source": [
    "# convert UTC to Eastern Standard Time\n",
    "\n",
    "df_news['TIMESTAMP_EST'] = df_news['TIMESTAMP_UTC'].dt.tz_convert('America/New_York')\n",
    "df_news['RPNA_DATE_EST'] = df_news['TIMESTAMP_EST'].dt.date\n",
    "df_news['RPNA_TIME_EST'] = df_news['TIMESTAMP_EST'].dt.time\n",
    "\n",
    "# get next market day for every observation (news) according to the US trading calendar\n",
    "\n",
    "from pandas.tseries.offsets import CustomBusinessDay\n",
    "\n",
    "from pandas.tseries.holiday import AbstractHolidayCalendar, Holiday, nearest_workday, \\\n",
    "    USMartinLutherKingJr, USPresidentsDay, GoodFriday, USMemorialDay, \\\n",
    "    USLaborDay, USThanksgivingDay\n",
    "\n",
    "class USTradingCalendar(AbstractHolidayCalendar):\n",
    "    rules = [Holiday('NewYearsDay', month = 1, day = 1, observance = nearest_workday),\n",
    "             USMartinLutherKingJr,\n",
    "             USPresidentsDay,\n",
    "             GoodFriday,\n",
    "             USMemorialDay,\n",
    "             Holiday('USIndependenceDay', month = 7, day = 4, observance = nearest_workday),\n",
    "             USLaborDay,\n",
    "             USThanksgivingDay,\n",
    "             Holiday('Christmas', month = 12, day = 25, observance = nearest_workday)]\n",
    "\n",
    "bday_us = CustomBusinessDay(calendar = USTradingCalendar())\n",
    "nasdaq_close = '16:00:00'\n",
    "\n",
    "df_news['NEXT_MARKET_DATE'] = pd.to_datetime(np.where(df_news['RPNA_TIME_EST'] > pd.to_datetime(nasdaq_close).time(),\n",
    "                                                      df_news['RPNA_DATE_EST'] + bday_us,\n",
    "                                                      df_news['RPNA_DATE_EST'] + 0 * bday_us))\n",
    "df_news['NEXT_MARKET_CLOSE'] = (df_news['NEXT_MARKET_DATE'] + pd.Timedelta(nasdaq_close)).dt.tz_localize('America/New_York')\n",
    "df_news['TIME_TO_CLOSE'] = df_news['NEXT_MARKET_CLOSE'] - df_news['TIMESTAMP_EST']\n",
    "\n",
    "'''\n",
    "the algortihm is working as intended: the stock market was closed from 1st to 3rd January \n",
    "-> next market day on 4th January\n",
    "'''\n",
    "\n",
    "df_news[['TIMESTAMP_EST', 'NEXT_MARKET_DATE', 'NEXT_MARKET_CLOSE', 'TIME_TO_CLOSE']].head(5)\n"
   ]
  },
  {
   "cell_type": "markdown",
   "metadata": {},
   "source": [
    "## Preparing the Market Data"
   ]
  },
  {
   "cell_type": "code",
   "execution_count": 5,
   "metadata": {},
   "outputs": [
    {
     "data": {
      "text/html": [
       "<div>\n",
       "<style scoped>\n",
       "    .dataframe tbody tr th:only-of-type {\n",
       "        vertical-align: middle;\n",
       "    }\n",
       "\n",
       "    .dataframe tbody tr th {\n",
       "        vertical-align: top;\n",
       "    }\n",
       "\n",
       "    .dataframe thead th {\n",
       "        text-align: right;\n",
       "    }\n",
       "</style>\n",
       "<table border=\"1\" class=\"dataframe\">\n",
       "  <thead>\n",
       "    <tr style=\"text-align: right;\">\n",
       "      <th></th>\n",
       "      <th>gvkey</th>\n",
       "      <th>iid</th>\n",
       "      <th>datadate</th>\n",
       "      <th>tic</th>\n",
       "      <th>conm</th>\n",
       "      <th>cshtrd</th>\n",
       "      <th>prccd</th>\n",
       "      <th>prchd</th>\n",
       "      <th>prcld</th>\n",
       "      <th>prcod</th>\n",
       "      <th>trfd</th>\n",
       "      <th>exchg</th>\n",
       "    </tr>\n",
       "  </thead>\n",
       "  <tbody>\n",
       "    <tr>\n",
       "      <th>0</th>\n",
       "      <td>1447</td>\n",
       "      <td>1</td>\n",
       "      <td>4/1/2016</td>\n",
       "      <td>AXP</td>\n",
       "      <td>AMERICAN EXPRESS CO</td>\n",
       "      <td>9228601.0</td>\n",
       "      <td>67.59</td>\n",
       "      <td>68.18</td>\n",
       "      <td>66.77</td>\n",
       "      <td>68.09</td>\n",
       "      <td>2.417612</td>\n",
       "      <td>11</td>\n",
       "    </tr>\n",
       "  </tbody>\n",
       "</table>\n",
       "</div>"
      ],
      "text/plain": [
       "   gvkey  iid  datadate  tic                 conm     cshtrd  prccd  prchd  \\\n",
       "0   1447    1  4/1/2016  AXP  AMERICAN EXPRESS CO  9228601.0  67.59  68.18   \n",
       "\n",
       "   prcld  prcod      trfd  exchg  \n",
       "0  66.77  68.09  2.417612     11  "
      ]
     },
     "execution_count": 5,
     "metadata": {},
     "output_type": "execute_result"
    }
   ],
   "source": [
    "# import market data\n",
    "\n",
    "df_market = pd.read_csv('data/djia.csv')\n",
    "df_market.head(1)"
   ]
  },
  {
   "cell_type": "code",
   "execution_count": 6,
   "metadata": {},
   "outputs": [],
   "source": [
    "# change formats\n",
    "\n",
    "df_market['datadate'] = pd.to_datetime(df_market['datadate'],\n",
    "                                       dayfirst = True)"
   ]
  },
  {
   "cell_type": "code",
   "execution_count": 7,
   "metadata": {},
   "outputs": [],
   "source": [
    "# compute stock return and volatility\n",
    "\n",
    "df_market['dreturn'] = np.log(df_market.prccd / df_market.prcod)\n",
    "df_market['dvar'] = ((np.log(df_market.prchd) - np.log(df_market.prcld))**2) / 4 * np.log(2) #Applying the Parkinson (1980) H-L measure\n",
    "df_market['dvol'] = np.sqrt(df_market.dvar)\n",
    "df_market['dreturn_flag'] = np.where(df_market['dreturn'] >= 0, 1, -1)"
   ]
  },
  {
   "cell_type": "code",
   "execution_count": 8,
   "metadata": {},
   "outputs": [
    {
     "data": {
      "text/html": [
       "<div>\n",
       "<style scoped>\n",
       "    .dataframe tbody tr th:only-of-type {\n",
       "        vertical-align: middle;\n",
       "    }\n",
       "\n",
       "    .dataframe tbody tr th {\n",
       "        vertical-align: top;\n",
       "    }\n",
       "\n",
       "    .dataframe thead th {\n",
       "        text-align: right;\n",
       "    }\n",
       "</style>\n",
       "<table border=\"1\" class=\"dataframe\">\n",
       "  <thead>\n",
       "    <tr style=\"text-align: right;\">\n",
       "      <th></th>\n",
       "      <th>datadate</th>\n",
       "      <th>mkt_return</th>\n",
       "    </tr>\n",
       "  </thead>\n",
       "  <tbody>\n",
       "    <tr>\n",
       "      <th>0</th>\n",
       "      <td>2015-12-31</td>\n",
       "      <td>-0.008113</td>\n",
       "    </tr>\n",
       "  </tbody>\n",
       "</table>\n",
       "</div>"
      ],
      "text/plain": [
       "    datadate  mkt_return\n",
       "0 2015-12-31   -0.008113"
      ]
     },
     "execution_count": 8,
     "metadata": {},
     "output_type": "execute_result"
    }
   ],
   "source": [
    "market_return=pd.read_csv('data/gspc.csv')\n",
    "market_return['mkt_return'] = np.log(market_return.Close / market_return.Open)\n",
    "market_return=market_return[['Date','mkt_return']]\n",
    "market_return.columns=['datadate','mkt_return']\n",
    "market_return['datadate'] = pd.to_datetime(market_return['datadate'])\n",
    "market_return.head(1)"
   ]
  },
  {
   "cell_type": "code",
   "execution_count": 9,
   "metadata": {},
   "outputs": [
    {
     "data": {
      "text/html": [
       "<div>\n",
       "<style scoped>\n",
       "    .dataframe tbody tr th:only-of-type {\n",
       "        vertical-align: middle;\n",
       "    }\n",
       "\n",
       "    .dataframe tbody tr th {\n",
       "        vertical-align: top;\n",
       "    }\n",
       "\n",
       "    .dataframe thead th {\n",
       "        text-align: right;\n",
       "    }\n",
       "</style>\n",
       "<table border=\"1\" class=\"dataframe\">\n",
       "  <thead>\n",
       "    <tr style=\"text-align: right;\">\n",
       "      <th></th>\n",
       "      <th>gvkey</th>\n",
       "      <th>iid</th>\n",
       "      <th>datadate</th>\n",
       "      <th>tic</th>\n",
       "      <th>conm</th>\n",
       "      <th>cshtrd</th>\n",
       "      <th>prccd</th>\n",
       "      <th>prchd</th>\n",
       "      <th>prcld</th>\n",
       "      <th>prcod</th>\n",
       "      <th>trfd</th>\n",
       "      <th>exchg</th>\n",
       "      <th>dreturn</th>\n",
       "      <th>dvar</th>\n",
       "      <th>dvol</th>\n",
       "      <th>dreturn_flag</th>\n",
       "      <th>mkt_return</th>\n",
       "    </tr>\n",
       "  </thead>\n",
       "  <tbody>\n",
       "    <tr>\n",
       "      <th>0</th>\n",
       "      <td>1447</td>\n",
       "      <td>1</td>\n",
       "      <td>2016-01-04</td>\n",
       "      <td>AXP</td>\n",
       "      <td>AMERICAN EXPRESS CO</td>\n",
       "      <td>9228601.0</td>\n",
       "      <td>67.59</td>\n",
       "      <td>68.18</td>\n",
       "      <td>66.77</td>\n",
       "      <td>68.09</td>\n",
       "      <td>2.417612</td>\n",
       "      <td>11</td>\n",
       "      <td>-0.00737</td>\n",
       "      <td>0.000076</td>\n",
       "      <td>0.008699</td>\n",
       "      <td>-1</td>\n",
       "      <td>-0.01261</td>\n",
       "    </tr>\n",
       "  </tbody>\n",
       "</table>\n",
       "</div>"
      ],
      "text/plain": [
       "   gvkey  iid   datadate  tic                 conm     cshtrd  prccd  prchd  \\\n",
       "0   1447    1 2016-01-04  AXP  AMERICAN EXPRESS CO  9228601.0  67.59  68.18   \n",
       "\n",
       "   prcld  prcod      trfd  exchg  dreturn      dvar      dvol  dreturn_flag  \\\n",
       "0  66.77  68.09  2.417612     11 -0.00737  0.000076  0.008699            -1   \n",
       "\n",
       "   mkt_return  \n",
       "0    -0.01261  "
      ]
     },
     "execution_count": 9,
     "metadata": {},
     "output_type": "execute_result"
    }
   ],
   "source": [
    "df_market=pd.merge(df_market, market_return,how='left',on='datadate')\n",
    "df_market.head(1)"
   ]
  },
  {
   "cell_type": "code",
   "execution_count": 10,
   "metadata": {},
   "outputs": [],
   "source": [
    "#remove row if closing price or market return is missing\n",
    "df_market = df_market[np.isfinite(df_market['prcod'])]\n",
    "df_market = df_market[np.isfinite(df_market['mkt_return'])]"
   ]
  },
  {
   "cell_type": "markdown",
   "metadata": {},
   "source": [
    "#### Calculating Beta"
   ]
  },
  {
   "cell_type": "code",
   "execution_count": 11,
   "metadata": {},
   "outputs": [
    {
     "data": {
      "text/html": [
       "<div>\n",
       "<style scoped>\n",
       "    .dataframe tbody tr th:only-of-type {\n",
       "        vertical-align: middle;\n",
       "    }\n",
       "\n",
       "    .dataframe tbody tr th {\n",
       "        vertical-align: top;\n",
       "    }\n",
       "\n",
       "    .dataframe thead th {\n",
       "        text-align: right;\n",
       "    }\n",
       "</style>\n",
       "<table border=\"1\" class=\"dataframe\">\n",
       "  <thead>\n",
       "    <tr style=\"text-align: right;\">\n",
       "      <th></th>\n",
       "      <th>conm</th>\n",
       "      <th>cov</th>\n",
       "      <th>var</th>\n",
       "      <th>beta</th>\n",
       "    </tr>\n",
       "  </thead>\n",
       "  <tbody>\n",
       "    <tr>\n",
       "      <th>0</th>\n",
       "      <td>3M CO</td>\n",
       "      <td>0.000033</td>\n",
       "      <td>0.000041</td>\n",
       "      <td>0.794666</td>\n",
       "    </tr>\n",
       "    <tr>\n",
       "      <th>1</th>\n",
       "      <td>AMERICAN EXPRESS CO</td>\n",
       "      <td>0.000034</td>\n",
       "      <td>0.000041</td>\n",
       "      <td>0.833967</td>\n",
       "    </tr>\n",
       "    <tr>\n",
       "      <th>2</th>\n",
       "      <td>APPLE INC</td>\n",
       "      <td>0.000038</td>\n",
       "      <td>0.000041</td>\n",
       "      <td>0.927551</td>\n",
       "    </tr>\n",
       "    <tr>\n",
       "      <th>3</th>\n",
       "      <td>BOEING CO</td>\n",
       "      <td>0.000044</td>\n",
       "      <td>0.000041</td>\n",
       "      <td>1.067496</td>\n",
       "    </tr>\n",
       "    <tr>\n",
       "      <th>4</th>\n",
       "      <td>CATERPILLAR INC</td>\n",
       "      <td>0.000048</td>\n",
       "      <td>0.000041</td>\n",
       "      <td>1.172869</td>\n",
       "    </tr>\n",
       "    <tr>\n",
       "      <th>5</th>\n",
       "      <td>CHEVRON CORP</td>\n",
       "      <td>0.000032</td>\n",
       "      <td>0.000041</td>\n",
       "      <td>0.784118</td>\n",
       "    </tr>\n",
       "    <tr>\n",
       "      <th>6</th>\n",
       "      <td>CISCO SYSTEMS INC</td>\n",
       "      <td>0.000042</td>\n",
       "      <td>0.000041</td>\n",
       "      <td>1.014859</td>\n",
       "    </tr>\n",
       "    <tr>\n",
       "      <th>7</th>\n",
       "      <td>COCA-COLA CO</td>\n",
       "      <td>0.000019</td>\n",
       "      <td>0.000041</td>\n",
       "      <td>0.450555</td>\n",
       "    </tr>\n",
       "    <tr>\n",
       "      <th>8</th>\n",
       "      <td>DISNEY (WALT) CO</td>\n",
       "      <td>0.000027</td>\n",
       "      <td>0.000041</td>\n",
       "      <td>0.647995</td>\n",
       "    </tr>\n",
       "    <tr>\n",
       "      <th>9</th>\n",
       "      <td>EXXON MOBIL CORP</td>\n",
       "      <td>0.000024</td>\n",
       "      <td>0.000041</td>\n",
       "      <td>0.575956</td>\n",
       "    </tr>\n",
       "    <tr>\n",
       "      <th>10</th>\n",
       "      <td>GOLDMAN SACHS GROUP INC</td>\n",
       "      <td>0.000012</td>\n",
       "      <td>0.000039</td>\n",
       "      <td>0.321324</td>\n",
       "    </tr>\n",
       "    <tr>\n",
       "      <th>11</th>\n",
       "      <td>HOME DEPOT INC</td>\n",
       "      <td>0.000036</td>\n",
       "      <td>0.000041</td>\n",
       "      <td>0.874991</td>\n",
       "    </tr>\n",
       "    <tr>\n",
       "      <th>12</th>\n",
       "      <td>INTEL CORP</td>\n",
       "      <td>0.000045</td>\n",
       "      <td>0.000041</td>\n",
       "      <td>1.100909</td>\n",
       "    </tr>\n",
       "    <tr>\n",
       "      <th>13</th>\n",
       "      <td>INTL BUSINESS MACHINES CORP</td>\n",
       "      <td>0.000032</td>\n",
       "      <td>0.000041</td>\n",
       "      <td>0.787873</td>\n",
       "    </tr>\n",
       "    <tr>\n",
       "      <th>14</th>\n",
       "      <td>JOHNSON &amp; JOHNSON</td>\n",
       "      <td>0.000023</td>\n",
       "      <td>0.000041</td>\n",
       "      <td>0.566883</td>\n",
       "    </tr>\n",
       "    <tr>\n",
       "      <th>15</th>\n",
       "      <td>JPMORGAN CHASE &amp; CO</td>\n",
       "      <td>0.000016</td>\n",
       "      <td>0.000040</td>\n",
       "      <td>0.392007</td>\n",
       "    </tr>\n",
       "    <tr>\n",
       "      <th>16</th>\n",
       "      <td>MCDONALD'S CORP</td>\n",
       "      <td>0.000023</td>\n",
       "      <td>0.000041</td>\n",
       "      <td>0.555604</td>\n",
       "    </tr>\n",
       "    <tr>\n",
       "      <th>17</th>\n",
       "      <td>MERCK &amp; CO</td>\n",
       "      <td>0.000023</td>\n",
       "      <td>0.000041</td>\n",
       "      <td>0.551423</td>\n",
       "    </tr>\n",
       "    <tr>\n",
       "      <th>18</th>\n",
       "      <td>MICROSOFT CORP</td>\n",
       "      <td>0.000045</td>\n",
       "      <td>0.000041</td>\n",
       "      <td>1.101683</td>\n",
       "    </tr>\n",
       "    <tr>\n",
       "      <th>19</th>\n",
       "      <td>NIKE INC</td>\n",
       "      <td>0.000031</td>\n",
       "      <td>0.000041</td>\n",
       "      <td>0.760007</td>\n",
       "    </tr>\n",
       "    <tr>\n",
       "      <th>20</th>\n",
       "      <td>PFIZER INC</td>\n",
       "      <td>0.000024</td>\n",
       "      <td>0.000041</td>\n",
       "      <td>0.583339</td>\n",
       "    </tr>\n",
       "    <tr>\n",
       "      <th>21</th>\n",
       "      <td>PROCTER &amp; GAMBLE CO</td>\n",
       "      <td>0.000018</td>\n",
       "      <td>0.000041</td>\n",
       "      <td>0.429681</td>\n",
       "    </tr>\n",
       "    <tr>\n",
       "      <th>22</th>\n",
       "      <td>TRAVELERS COS INC</td>\n",
       "      <td>0.000027</td>\n",
       "      <td>0.000041</td>\n",
       "      <td>0.650792</td>\n",
       "    </tr>\n",
       "    <tr>\n",
       "      <th>23</th>\n",
       "      <td>UNITED TECHNOLOGIES CORP</td>\n",
       "      <td>0.000034</td>\n",
       "      <td>0.000041</td>\n",
       "      <td>0.830666</td>\n",
       "    </tr>\n",
       "    <tr>\n",
       "      <th>24</th>\n",
       "      <td>UNITEDHEALTH GROUP INC</td>\n",
       "      <td>0.000033</td>\n",
       "      <td>0.000041</td>\n",
       "      <td>0.795430</td>\n",
       "    </tr>\n",
       "    <tr>\n",
       "      <th>25</th>\n",
       "      <td>VERIZON COMMUNICATIONS INC</td>\n",
       "      <td>0.000023</td>\n",
       "      <td>0.000041</td>\n",
       "      <td>0.552739</td>\n",
       "    </tr>\n",
       "    <tr>\n",
       "      <th>26</th>\n",
       "      <td>VISA INC</td>\n",
       "      <td>0.000038</td>\n",
       "      <td>0.000041</td>\n",
       "      <td>0.926707</td>\n",
       "    </tr>\n",
       "    <tr>\n",
       "      <th>27</th>\n",
       "      <td>WALGREENS BOOTS ALLIANCE INC</td>\n",
       "      <td>0.000034</td>\n",
       "      <td>0.000041</td>\n",
       "      <td>0.826427</td>\n",
       "    </tr>\n",
       "    <tr>\n",
       "      <th>28</th>\n",
       "      <td>WALMART INC</td>\n",
       "      <td>0.000021</td>\n",
       "      <td>0.000041</td>\n",
       "      <td>0.505733</td>\n",
       "    </tr>\n",
       "  </tbody>\n",
       "</table>\n",
       "</div>"
      ],
      "text/plain": [
       "                            conm       cov       var      beta\n",
       "0                          3M CO  0.000033  0.000041  0.794666\n",
       "1            AMERICAN EXPRESS CO  0.000034  0.000041  0.833967\n",
       "2                      APPLE INC  0.000038  0.000041  0.927551\n",
       "3                      BOEING CO  0.000044  0.000041  1.067496\n",
       "4                CATERPILLAR INC  0.000048  0.000041  1.172869\n",
       "5                   CHEVRON CORP  0.000032  0.000041  0.784118\n",
       "6              CISCO SYSTEMS INC  0.000042  0.000041  1.014859\n",
       "7                   COCA-COLA CO  0.000019  0.000041  0.450555\n",
       "8               DISNEY (WALT) CO  0.000027  0.000041  0.647995\n",
       "9               EXXON MOBIL CORP  0.000024  0.000041  0.575956\n",
       "10       GOLDMAN SACHS GROUP INC  0.000012  0.000039  0.321324\n",
       "11                HOME DEPOT INC  0.000036  0.000041  0.874991\n",
       "12                    INTEL CORP  0.000045  0.000041  1.100909\n",
       "13   INTL BUSINESS MACHINES CORP  0.000032  0.000041  0.787873\n",
       "14             JOHNSON & JOHNSON  0.000023  0.000041  0.566883\n",
       "15           JPMORGAN CHASE & CO  0.000016  0.000040  0.392007\n",
       "16               MCDONALD'S CORP  0.000023  0.000041  0.555604\n",
       "17                    MERCK & CO  0.000023  0.000041  0.551423\n",
       "18                MICROSOFT CORP  0.000045  0.000041  1.101683\n",
       "19                      NIKE INC  0.000031  0.000041  0.760007\n",
       "20                    PFIZER INC  0.000024  0.000041  0.583339\n",
       "21           PROCTER & GAMBLE CO  0.000018  0.000041  0.429681\n",
       "22             TRAVELERS COS INC  0.000027  0.000041  0.650792\n",
       "23      UNITED TECHNOLOGIES CORP  0.000034  0.000041  0.830666\n",
       "24        UNITEDHEALTH GROUP INC  0.000033  0.000041  0.795430\n",
       "25    VERIZON COMMUNICATIONS INC  0.000023  0.000041  0.552739\n",
       "26                      VISA INC  0.000038  0.000041  0.926707\n",
       "27  WALGREENS BOOTS ALLIANCE INC  0.000034  0.000041  0.826427\n",
       "28                   WALMART INC  0.000021  0.000041  0.505733"
      ]
     },
     "execution_count": 11,
     "metadata": {},
     "output_type": "execute_result"
    }
   ],
   "source": [
    "#get covariance\n",
    "grouped = df_market.groupby('conm')\n",
    "group_cov=grouped.apply(lambda x: x['dreturn'].cov(x['mkt_return']))\n",
    "group_cov=pd.DataFrame(data=group_cov)\n",
    "group_cov.columns = ['cov']\n",
    "group_cov.reset_index(inplace=True)\n",
    "\n",
    "#get market variance\n",
    "market_var=(df_market.groupby('conm')['mkt_return'].var())\n",
    "market_var=pd.DataFrame(data=market_var)\n",
    "market_var.columns = ['var']\n",
    "market_var.reset_index(inplace=True)\n",
    "\n",
    "merged_df=pd.merge(group_cov, market_var,how='left',on='conm')\n",
    "#merged_df\n",
    "\n",
    "merged_df['beta']=merged_df['cov']/merged_df['var']\n",
    "merged_df"
   ]
  },
  {
   "cell_type": "code",
   "execution_count": 12,
   "metadata": {},
   "outputs": [],
   "source": [
    "df_market=pd.merge(df_market, merged_df,how='left',on='conm')"
   ]
  },
  {
   "cell_type": "code",
   "execution_count": 13,
   "metadata": {},
   "outputs": [],
   "source": [
    "#average market return over 2016-2018 period\n",
    "averagereturn=market_return[\"mkt_return\"].mean()"
   ]
  },
  {
   "cell_type": "code",
   "execution_count": 14,
   "metadata": {},
   "outputs": [
    {
     "data": {
      "text/html": [
       "<div>\n",
       "<style scoped>\n",
       "    .dataframe tbody tr th:only-of-type {\n",
       "        vertical-align: middle;\n",
       "    }\n",
       "\n",
       "    .dataframe tbody tr th {\n",
       "        vertical-align: top;\n",
       "    }\n",
       "\n",
       "    .dataframe thead th {\n",
       "        text-align: right;\n",
       "    }\n",
       "</style>\n",
       "<table border=\"1\" class=\"dataframe\">\n",
       "  <thead>\n",
       "    <tr style=\"text-align: right;\">\n",
       "      <th></th>\n",
       "      <th>gvkey</th>\n",
       "      <th>iid</th>\n",
       "      <th>datadate</th>\n",
       "      <th>tic</th>\n",
       "      <th>conm</th>\n",
       "      <th>cshtrd</th>\n",
       "      <th>prccd</th>\n",
       "      <th>prchd</th>\n",
       "      <th>prcld</th>\n",
       "      <th>prcod</th>\n",
       "      <th>trfd</th>\n",
       "      <th>exchg</th>\n",
       "      <th>dreturn</th>\n",
       "      <th>dvar</th>\n",
       "      <th>dvol</th>\n",
       "      <th>dreturn_flag</th>\n",
       "      <th>mkt_return</th>\n",
       "      <th>cov</th>\n",
       "      <th>var</th>\n",
       "      <th>beta</th>\n",
       "      <th>exp_return</th>\n",
       "      <th>abnormal_return</th>\n",
       "      <th>abnormal_return_flag</th>\n",
       "    </tr>\n",
       "  </thead>\n",
       "  <tbody>\n",
       "    <tr>\n",
       "      <th>0</th>\n",
       "      <td>1447</td>\n",
       "      <td>1</td>\n",
       "      <td>2016-01-04</td>\n",
       "      <td>AXP</td>\n",
       "      <td>AMERICAN EXPRESS CO</td>\n",
       "      <td>9228601.0</td>\n",
       "      <td>67.59</td>\n",
       "      <td>68.18</td>\n",
       "      <td>66.77</td>\n",
       "      <td>68.09</td>\n",
       "      <td>2.417612</td>\n",
       "      <td>11</td>\n",
       "      <td>-0.00737</td>\n",
       "      <td>0.000076</td>\n",
       "      <td>0.008699</td>\n",
       "      <td>-1</td>\n",
       "      <td>-0.01261</td>\n",
       "      <td>0.000034</td>\n",
       "      <td>0.000041</td>\n",
       "      <td>0.833967</td>\n",
       "      <td>-0.010516</td>\n",
       "      <td>0.003146</td>\n",
       "      <td>1</td>\n",
       "    </tr>\n",
       "  </tbody>\n",
       "</table>\n",
       "</div>"
      ],
      "text/plain": [
       "   gvkey  iid   datadate  tic                 conm     cshtrd  prccd  prchd  \\\n",
       "0   1447    1 2016-01-04  AXP  AMERICAN EXPRESS CO  9228601.0  67.59  68.18   \n",
       "\n",
       "   prcld  prcod      trfd  exchg  dreturn      dvar      dvol  dreturn_flag  \\\n",
       "0  66.77  68.09  2.417612     11 -0.00737  0.000076  0.008699            -1   \n",
       "\n",
       "   mkt_return       cov       var      beta  exp_return  abnormal_return  \\\n",
       "0    -0.01261  0.000034  0.000041  0.833967   -0.010516         0.003146   \n",
       "\n",
       "   abnormal_return_flag  \n",
       "0                     1  "
      ]
     },
     "execution_count": 14,
     "metadata": {},
     "output_type": "execute_result"
    }
   ],
   "source": [
    "#compute abnormal return\n",
    "df_market['exp_return']=df_market['beta']*df_market['mkt_return']\n",
    "df_market['abnormal_return']=df_market['dreturn']-df_market['exp_return']\n",
    "df_market['abnormal_return_flag'] = np.where(df_market['abnormal_return'] >= 0, 1, -1)\n",
    "df_market.head(1)"
   ]
  },
  {
   "cell_type": "markdown",
   "metadata": {},
   "source": [
    "## Joining News and Market Data"
   ]
  },
  {
   "cell_type": "code",
   "execution_count": 15,
   "metadata": {
    "scrolled": true
   },
   "outputs": [
    {
     "name": "stdout",
     "output_type": "stream",
     "text": [
      "<class 'pandas.core.frame.DataFrame'>\n",
      "Int64Index: 785719 entries, 0 to 785718\n",
      "Data columns (total 78 columns):\n",
      "TIMESTAMP_UTC           785719 non-null datetime64[ns, UTC]\n",
      "RPNA_DATE_UTC           785719 non-null object\n",
      "RPNA_TIME_UTC           785719 non-null object\n",
      "RP_ENTITY_ID            785719 non-null object\n",
      "ENTITY_TYPE             785719 non-null object\n",
      "ENTITY_NAME             785719 non-null object\n",
      "POSITION_NAME           5150 non-null object\n",
      "RP_POSITION_ID          5150 non-null object\n",
      "COUNTRY_CODE            785719 non-null object\n",
      "RELEVANCE               785719 non-null int64\n",
      "TOPIC                   42546 non-null object\n",
      "GROUP                   42546 non-null object\n",
      "TYPE                    42546 non-null object\n",
      "SUB_TYPE                20285 non-null object\n",
      "PROPERTY                13939 non-null object\n",
      "EVALUATION_METHOD       0 non-null float64\n",
      "MATURITY                0 non-null float64\n",
      "CATEGORY                42546 non-null object\n",
      "ESS                     42546 non-null float64\n",
      "AES                     785719 non-null int64\n",
      "AEV                     785719 non-null int64\n",
      "ENS                     42546 non-null float64\n",
      "ENS_SIMILARITY_GAP      42546 non-null float64\n",
      "ENS_KEY                 42546 non-null object\n",
      "ENS_ELAPSED             42546 non-null float64\n",
      "G_ENS                   42546 non-null float64\n",
      "G_ENS_SIMILARITY_GAP    42546 non-null float64\n",
      "G_ENS_KEY               42546 non-null object\n",
      "G_ENS_ELAPSED           42546 non-null float64\n",
      "EVENT_SIMILARITY_KEY    42546 non-null object\n",
      "NEWS_TYPE               785719 non-null object\n",
      "SOURCE                  785719 non-null object\n",
      "RP_STORY_ID             785719 non-null object\n",
      "RP_STORY_EVENT_INDEX    785719 non-null int64\n",
      "RP_STORY_EVENT_COUNT    785719 non-null int64\n",
      "PRODUCT_KEY             785719 non-null object\n",
      "COMPANY                 785719 non-null object\n",
      "ISIN                    785719 non-null object\n",
      "CSS                     785719 non-null int64\n",
      "NIP                     785719 non-null int64\n",
      "PEQ                     785719 non-null int64\n",
      "BEE                     785719 non-null int64\n",
      "BMQ                     785719 non-null int64\n",
      "BAM                     785719 non-null int64\n",
      "BCA                     785719 non-null int64\n",
      "BER                     785719 non-null int64\n",
      "ANL_CHG                 785719 non-null int64\n",
      "MCQ                     785719 non-null int64\n",
      "TICKER                  785719 non-null object\n",
      "TIMESTAMP_EST           785719 non-null datetime64[ns, America/New_York]\n",
      "RPNA_DATE_EST           785719 non-null object\n",
      "RPNA_TIME_EST           785719 non-null object\n",
      "NEXT_MARKET_DATE        785719 non-null datetime64[ns]\n",
      "NEXT_MARKET_CLOSE       785719 non-null datetime64[ns, America/New_York]\n",
      "TIME_TO_CLOSE           785719 non-null timedelta64[ns]\n",
      "gvkey                   785719 non-null int64\n",
      "iid                     785719 non-null int64\n",
      "datadate                785719 non-null datetime64[ns]\n",
      "tic                     785719 non-null object\n",
      "conm                    785719 non-null object\n",
      "cshtrd                  785719 non-null float64\n",
      "prccd                   785719 non-null float64\n",
      "prchd                   785719 non-null float64\n",
      "prcld                   785719 non-null float64\n",
      "prcod                   785719 non-null float64\n",
      "trfd                    785719 non-null float64\n",
      "exchg                   785719 non-null int64\n",
      "dreturn                 785719 non-null float64\n",
      "dvar                    785719 non-null float64\n",
      "dvol                    785719 non-null float64\n",
      "dreturn_flag            785719 non-null int32\n",
      "mkt_return              785719 non-null float64\n",
      "cov                     785719 non-null float64\n",
      "var                     785719 non-null float64\n",
      "beta                    785719 non-null float64\n",
      "exp_return              785719 non-null float64\n",
      "abnormal_return         785719 non-null float64\n",
      "abnormal_return_flag    785719 non-null int32\n",
      "dtypes: datetime64[ns, America/New_York](2), datetime64[ns, UTC](1), datetime64[ns](2), float64(24), int32(2), int64(18), object(28), timedelta64[ns](1)\n",
      "memory usage: 467.6+ MB\n"
     ]
    }
   ],
   "source": [
    "# join news data and market data on market date and company\n",
    "\n",
    "df = pd.merge(df_news,df_market , how = 'inner',\n",
    "              left_on = ['NEXT_MARKET_DATE', 'TICKER'],\n",
    "              right_on = ['datadate', 'tic'])\n",
    "df.info()"
   ]
  },
  {
   "cell_type": "markdown",
   "metadata": {},
   "source": [
    "## Data Cleaning"
   ]
  },
  {
   "cell_type": "code",
   "execution_count": 16,
   "metadata": {},
   "outputs": [],
   "source": [
    "# drop columns with no explanatory worth\n",
    "\n",
    "drop = ['ENTITY_TYPE', 'RP_POSITION_ID', 'COUNTRY_CODE','TIMESTAMP_EST','RPNA_DATE_EST','RPNA_TIME_EST',\n",
    "        'TIME_TO_CLOSE','RPNA_DATE_UTC','RPNA_TIME_UTC','ENTITY_NAME', 'EVALUATION_METHOD', 'ENS_KEY',\n",
    "        'G_ENS_KEY', 'EVENT_SIMILARITY_KEY', 'RP_STORY_ID', 'PRODUCT_KEY', 'COMPANY', 'ISIN', 'BER', 'ANL_CHG',\n",
    "        'TICKER', 'NEXT_MARKET_DATE', 'NEXT_MARKET_CLOSE', 'gvkey', 'iid', 'datadate', 'tic', 'conm', 'cshtrd',\n",
    "        'prccd', 'prchd', 'prcld', 'prcod', 'trfd', 'exchg', 'RP_ENTITY_ID','cov','var','beta','exp_return']\n",
    "df = df.drop(drop, axis = 1)"
   ]
  },
  {
   "cell_type": "code",
   "execution_count": 17,
   "metadata": {},
   "outputs": [
    {
     "data": {
      "text/plain": [
       "Missing    743173\n",
       "dtype: int64"
      ]
     },
     "execution_count": 17,
     "metadata": {},
     "output_type": "execute_result"
    }
   ],
   "source": [
    "# show missing data in rows\n",
    "\n",
    "missing = (df.isnull().sum(axis = 1) / df.isnull().count(axis = 1)).sort_values(ascending = False)\n",
    "missing_rows = pd.concat([missing], axis = 1, keys = ['Missing'])\n",
    "drop_rows = missing_rows[missing_rows['Missing'] > 0.25]\n",
    "drop_rows.count()"
   ]
  },
  {
   "cell_type": "code",
   "execution_count": 18,
   "metadata": {},
   "outputs": [],
   "source": [
    "# drop observations where most features are missing\n",
    "\n",
    "df = df.drop(drop_rows.index, axis = 0)"
   ]
  },
  {
   "cell_type": "code",
   "execution_count": 19,
   "metadata": {
    "scrolled": false
   },
   "outputs": [
    {
     "data": {
      "text/html": [
       "<div>\n",
       "<style scoped>\n",
       "    .dataframe tbody tr th:only-of-type {\n",
       "        vertical-align: middle;\n",
       "    }\n",
       "\n",
       "    .dataframe tbody tr th {\n",
       "        vertical-align: top;\n",
       "    }\n",
       "\n",
       "    .dataframe thead th {\n",
       "        text-align: right;\n",
       "    }\n",
       "</style>\n",
       "<table border=\"1\" class=\"dataframe\">\n",
       "  <thead>\n",
       "    <tr style=\"text-align: right;\">\n",
       "      <th></th>\n",
       "      <th>Total</th>\n",
       "      <th>Percent</th>\n",
       "    </tr>\n",
       "  </thead>\n",
       "  <tbody>\n",
       "    <tr>\n",
       "      <th>MATURITY</th>\n",
       "      <td>42546</td>\n",
       "      <td>1.000000</td>\n",
       "    </tr>\n",
       "    <tr>\n",
       "      <th>POSITION_NAME</th>\n",
       "      <td>37396</td>\n",
       "      <td>0.878955</td>\n",
       "    </tr>\n",
       "    <tr>\n",
       "      <th>PROPERTY</th>\n",
       "      <td>28607</td>\n",
       "      <td>0.672378</td>\n",
       "    </tr>\n",
       "    <tr>\n",
       "      <th>SUB_TYPE</th>\n",
       "      <td>22261</td>\n",
       "      <td>0.523222</td>\n",
       "    </tr>\n",
       "    <tr>\n",
       "      <th>ESS</th>\n",
       "      <td>0</td>\n",
       "      <td>0.000000</td>\n",
       "    </tr>\n",
       "  </tbody>\n",
       "</table>\n",
       "</div>"
      ],
      "text/plain": [
       "               Total   Percent\n",
       "MATURITY       42546  1.000000\n",
       "POSITION_NAME  37396  0.878955\n",
       "PROPERTY       28607  0.672378\n",
       "SUB_TYPE       22261  0.523222\n",
       "ESS                0  0.000000"
      ]
     },
     "execution_count": 19,
     "metadata": {},
     "output_type": "execute_result"
    }
   ],
   "source": [
    "# show missing data in columns\n",
    "\n",
    "total = df.isnull().sum().sort_values(ascending = False)\n",
    "percent = (df.isnull().sum() / df.isnull().count()).sort_values(ascending = False)\n",
    "missing_clmns = pd.concat([total, percent], axis = 1, keys = ['Total', 'Percent'])\n",
    "missing_clmns.head(5)"
   ]
  },
  {
   "cell_type": "code",
   "execution_count": 20,
   "metadata": {
    "scrolled": true
   },
   "outputs": [],
   "source": [
    "# drop features where most observations are missing\n",
    "\n",
    "df = df.drop((missing_clmns[missing_clmns['Percent'] > 0.25]).index, axis = 1)"
   ]
  },
  {
   "cell_type": "code",
   "execution_count": 21,
   "metadata": {},
   "outputs": [
    {
     "data": {
      "text/plain": [
       "0"
      ]
     },
     "execution_count": 21,
     "metadata": {},
     "output_type": "execute_result"
    }
   ],
   "source": [
    "# check if missing values remain\n",
    "\n",
    "df.isnull().sum().max()"
   ]
  },
  {
   "cell_type": "markdown",
   "metadata": {},
   "source": [
    "## Data Exploration"
   ]
  },
  {
   "cell_type": "code",
   "execution_count": 22,
   "metadata": {},
   "outputs": [
    {
     "name": "stderr",
     "output_type": "stream",
     "text": [
      "C:\\Users\\nicol\\Anaconda3\\lib\\site-packages\\scipy\\stats\\stats.py:1713: FutureWarning: Using a non-tuple sequence for multidimensional indexing is deprecated; use `arr[tuple(seq)]` instead of `arr[seq]`. In the future this will be interpreted as an array index, `arr[np.array(seq)]`, which will result either in an error or a different result.\n",
      "  return np.add.reduce(sorted[indexer] * weights, axis=axis) / sumval\n"
     ]
    },
    {
     "data": {
      "image/png": "[encoded data removed]",
      "text/plain": [
       "<Figure size 432x288 with 1 Axes>"
      ]
     },
     "metadata": {
      "needs_background": "light"
     },
     "output_type": "display_data"
    }
   ],
   "source": [
    "# check distribution of return\n",
    "\n",
    "sns.distplot(df['abnormal_return']);"
   ]
  },
  {
   "cell_type": "code",
   "execution_count": 23,
   "metadata": {
    "scrolled": true
   },
   "outputs": [
    {
     "data": {
      "image/png": "[encoded data removed]",
      "text/plain": [
       "<Figure size 720x720 with 1 Axes>"
      ]
     },
     "metadata": {
      "needs_background": "light"
     },
     "output_type": "display_data"
    }
   ],
   "source": [
    "var_x = 'NEWS_TYPE'\n",
    "var_y = 'abnormal_return'\n",
    "data = pd.concat([df[var_x], df[var_y]], axis = 1)\n",
    "plt.subplots(figsize = (10, 10))\n",
    "fig = sns.boxplot(x = var_x, y = var_y, data = data)\n",
    "plt.xticks(rotation = 90);"
   ]
  },
  {
   "cell_type": "markdown",
   "metadata": {},
   "source": [
    "### Preparing data for Sklearn"
   ]
  },
  {
   "cell_type": "code",
   "execution_count": 24,
   "metadata": {},
   "outputs": [
    {
     "data": {
      "text/html": [
       "<div>\n",
       "<style scoped>\n",
       "    .dataframe tbody tr th:only-of-type {\n",
       "        vertical-align: middle;\n",
       "    }\n",
       "\n",
       "    .dataframe tbody tr th {\n",
       "        vertical-align: top;\n",
       "    }\n",
       "\n",
       "    .dataframe thead th {\n",
       "        text-align: right;\n",
       "    }\n",
       "</style>\n",
       "<table border=\"1\" class=\"dataframe\">\n",
       "  <thead>\n",
       "    <tr style=\"text-align: right;\">\n",
       "      <th></th>\n",
       "      <th>RELEVANCE</th>\n",
       "      <th>ESS</th>\n",
       "      <th>AES</th>\n",
       "      <th>AEV</th>\n",
       "      <th>ENS</th>\n",
       "      <th>ENS_SIMILARITY_GAP</th>\n",
       "      <th>ENS_ELAPSED</th>\n",
       "      <th>G_ENS</th>\n",
       "      <th>G_ENS_SIMILARITY_GAP</th>\n",
       "      <th>G_ENS_ELAPSED</th>\n",
       "      <th>RP_STORY_EVENT_INDEX</th>\n",
       "      <th>RP_STORY_EVENT_COUNT</th>\n",
       "      <th>CSS</th>\n",
       "      <th>NIP</th>\n",
       "      <th>PEQ</th>\n",
       "      <th>BEE</th>\n",
       "      <th>BMQ</th>\n",
       "      <th>BAM</th>\n",
       "      <th>BCA</th>\n",
       "      <th>MCQ</th>\n",
       "      <th>GROUP_acquisitions-mergers</th>\n",
       "      <th>GROUP_analyst-ratings</th>\n",
       "      <th>GROUP_assets</th>\n",
       "      <th>GROUP_balance-of-payments</th>\n",
       "      <th>GROUP_bankruptcy</th>\n",
       "      <th>GROUP_civil-unrest</th>\n",
       "      <th>GROUP_corporate-responsibility</th>\n",
       "      <th>GROUP_credit</th>\n",
       "      <th>GROUP_credit-ratings</th>\n",
       "      <th>GROUP_crime</th>\n",
       "      <th>GROUP_dividends</th>\n",
       "      <th>GROUP_earnings</th>\n",
       "      <th>GROUP_equity-actions</th>\n",
       "      <th>GROUP_exploration</th>\n",
       "      <th>GROUP_indexes</th>\n",
       "      <th>GROUP_industrial-accidents</th>\n",
       "      <th>GROUP_insider-trading</th>\n",
       "      <th>GROUP_investor-relations</th>\n",
       "      <th>GROUP_labor-issues</th>\n",
       "      <th>GROUP_legal</th>\n",
       "      <th>GROUP_marketing</th>\n",
       "      <th>GROUP_order-imbalances</th>\n",
       "      <th>GROUP_partnerships</th>\n",
       "      <th>GROUP_pollution</th>\n",
       "      <th>GROUP_price-targets</th>\n",
       "      <th>GROUP_products-services</th>\n",
       "      <th>GROUP_regulatory</th>\n",
       "      <th>GROUP_revenues</th>\n",
       "      <th>GROUP_security</th>\n",
       "      <th>GROUP_stock-prices</th>\n",
       "      <th>GROUP_taxes</th>\n",
       "      <th>GROUP_technical-analysis</th>\n",
       "      <th>GROUP_transportation</th>\n",
       "      <th>NEWS_TYPE_FULL-ARTICLE</th>\n",
       "      <th>NEWS_TYPE_HOT-NEWS-FLASH</th>\n",
       "      <th>NEWS_TYPE_NEWS-FLASH</th>\n",
       "      <th>NEWS_TYPE_PRESS-RELEASE</th>\n",
       "      <th>NEWS_TYPE_TABULAR-MATERIAL</th>\n",
       "    </tr>\n",
       "  </thead>\n",
       "  <tbody>\n",
       "    <tr>\n",
       "      <th>12</th>\n",
       "      <td>100</td>\n",
       "      <td>41.0</td>\n",
       "      <td>29</td>\n",
       "      <td>65</td>\n",
       "      <td>100.0</td>\n",
       "      <td>12.12536</td>\n",
       "      <td>0.0</td>\n",
       "      <td>100.0</td>\n",
       "      <td>12.12536</td>\n",
       "      <td>0.0</td>\n",
       "      <td>1</td>\n",
       "      <td>1</td>\n",
       "      <td>52</td>\n",
       "      <td>70</td>\n",
       "      <td>50</td>\n",
       "      <td>50</td>\n",
       "      <td>100</td>\n",
       "      <td>50</td>\n",
       "      <td>50</td>\n",
       "      <td>100</td>\n",
       "      <td>0</td>\n",
       "      <td>0</td>\n",
       "      <td>0</td>\n",
       "      <td>0</td>\n",
       "      <td>0</td>\n",
       "      <td>0</td>\n",
       "      <td>0</td>\n",
       "      <td>0</td>\n",
       "      <td>0</td>\n",
       "      <td>0</td>\n",
       "      <td>0</td>\n",
       "      <td>0</td>\n",
       "      <td>0</td>\n",
       "      <td>0</td>\n",
       "      <td>0</td>\n",
       "      <td>0</td>\n",
       "      <td>0</td>\n",
       "      <td>0</td>\n",
       "      <td>0</td>\n",
       "      <td>0</td>\n",
       "      <td>0</td>\n",
       "      <td>0</td>\n",
       "      <td>0</td>\n",
       "      <td>0</td>\n",
       "      <td>0</td>\n",
       "      <td>0</td>\n",
       "      <td>0</td>\n",
       "      <td>0</td>\n",
       "      <td>0</td>\n",
       "      <td>0</td>\n",
       "      <td>0</td>\n",
       "      <td>1</td>\n",
       "      <td>0</td>\n",
       "      <td>0</td>\n",
       "      <td>0</td>\n",
       "      <td>0</td>\n",
       "      <td>0</td>\n",
       "      <td>1</td>\n",
       "    </tr>\n",
       "  </tbody>\n",
       "</table>\n",
       "</div>"
      ],
      "text/plain": [
       "    RELEVANCE   ESS  AES  AEV    ENS  ENS_SIMILARITY_GAP  ENS_ELAPSED  G_ENS  \\\n",
       "12        100  41.0   29   65  100.0            12.12536          0.0  100.0   \n",
       "\n",
       "    G_ENS_SIMILARITY_GAP  G_ENS_ELAPSED  RP_STORY_EVENT_INDEX  \\\n",
       "12              12.12536            0.0                     1   \n",
       "\n",
       "    RP_STORY_EVENT_COUNT  CSS  NIP  PEQ  BEE  BMQ  BAM  BCA  MCQ  \\\n",
       "12                     1   52   70   50   50  100   50   50  100   \n",
       "\n",
       "    GROUP_acquisitions-mergers  GROUP_analyst-ratings  GROUP_assets  \\\n",
       "12                           0                      0             0   \n",
       "\n",
       "    GROUP_balance-of-payments  GROUP_bankruptcy  GROUP_civil-unrest  \\\n",
       "12                          0                 0                   0   \n",
       "\n",
       "    GROUP_corporate-responsibility  GROUP_credit  GROUP_credit-ratings  \\\n",
       "12                               0             0                     0   \n",
       "\n",
       "    GROUP_crime  GROUP_dividends  GROUP_earnings  GROUP_equity-actions  \\\n",
       "12            0                0               0                     0   \n",
       "\n",
       "    GROUP_exploration  GROUP_indexes  GROUP_industrial-accidents  \\\n",
       "12                  0              0                           0   \n",
       "\n",
       "    GROUP_insider-trading  GROUP_investor-relations  GROUP_labor-issues  \\\n",
       "12                      0                         0                   0   \n",
       "\n",
       "    GROUP_legal  GROUP_marketing  GROUP_order-imbalances  GROUP_partnerships  \\\n",
       "12            0                0                       0                   0   \n",
       "\n",
       "    GROUP_pollution  GROUP_price-targets  GROUP_products-services  \\\n",
       "12                0                    0                        0   \n",
       "\n",
       "    GROUP_regulatory  GROUP_revenues  GROUP_security  GROUP_stock-prices  \\\n",
       "12                 0               0               0                   0   \n",
       "\n",
       "    GROUP_taxes  GROUP_technical-analysis  GROUP_transportation  \\\n",
       "12            0                         1                     0   \n",
       "\n",
       "    NEWS_TYPE_FULL-ARTICLE  NEWS_TYPE_HOT-NEWS-FLASH  NEWS_TYPE_NEWS-FLASH  \\\n",
       "12                       0                         0                     0   \n",
       "\n",
       "    NEWS_TYPE_PRESS-RELEASE  NEWS_TYPE_TABULAR-MATERIAL  \n",
       "12                        0                           1  "
      ]
     },
     "execution_count": 24,
     "metadata": {},
     "output_type": "execute_result"
    }
   ],
   "source": [
    "#assigning feature matrix and output variable #change\n",
    "X = df[['RELEVANCE','GROUP','ESS','AES','AEV','ENS','ENS_SIMILARITY_GAP', 'ENS_ELAPSED','G_ENS',\n",
    "        'G_ENS_SIMILARITY_GAP','G_ENS_ELAPSED','NEWS_TYPE','RP_STORY_EVENT_INDEX', 'RP_STORY_EVENT_COUNT',\n",
    "        'CSS','NIP','PEQ','BEE','BMQ','BAM','BCA','MCQ']]\n",
    "\n",
    "y = df['dreturn_flag']"
   ]
  },
  {
   "cell_type": "code",
   "execution_count": null,
   "metadata": {},
   "outputs": [],
   "source": [
    "# transform nominal features to dummy features\n",
    "X = pd.get_dummies(X)"
   ]
  },
  {
   "cell_type": "code",
   "execution_count": 27,
   "metadata": {},
   "outputs": [],
   "source": [
    "# check correlation of all variables\n",
    "#corrmat = df.corr()\n",
    "#plt.subplots(figsize = (15, 15))\n",
    "#sns.heatmap(corrmat, vmax = 0.75, square = True, annot = True, fmt='.2f');\n",
    "\n",
    "# visualize relationship between the most correlated variables\n",
    "\n",
    "#cols = corrmat.nlargest(5, 'dvol')['dvol'].index\n",
    "#sns.pairplot(df[cols])\n",
    "#plt.show()"
   ]
  },
  {
   "cell_type": "markdown",
   "metadata": {},
   "source": [
    "## Model Selection"
   ]
  },
  {
   "cell_type": "code",
   "execution_count": 25,
   "metadata": {},
   "outputs": [
    {
     "data": {
      "text/plain": [
       "((31909, 58), (10637, 58))"
      ]
     },
     "execution_count": 25,
     "metadata": {},
     "output_type": "execute_result"
    }
   ],
   "source": [
    "from sklearn.model_selection import train_test_split\n",
    "\n",
    "X_train, X_test, y_train, y_test =\\\n",
    "    train_test_split(X, y, \n",
    "                     random_state=0, \n",
    "                     stratify=y)\n",
    "X_train.shape, X_test.shape"
   ]
  },
  {
   "cell_type": "markdown",
   "metadata": {},
   "source": [
    "### Assessing feature importance with Random Forests"
   ]
  },
  {
   "cell_type": "code",
   "execution_count": 65,
   "metadata": {},
   "outputs": [
    {
     "name": "stdout",
     "output_type": "stream",
     "text": [
      "Number of samples that meet this criterion: 29782\n",
      " 1) AEV                            0.174093\n",
      " 2) AES                            0.140095\n",
      " 3) G_ENS_SIMILARITY_GAP           0.103330\n"
     ]
    }
   ],
   "source": [
    "from sklearn.ensemble import RandomForestClassifier\n",
    "\n",
    "feat_labels = X.columns[0:]\n",
    "\n",
    "forest = RandomForestClassifier(n_estimators=500,\n",
    "                                random_state=1)\n",
    "\n",
    "forest.fit(X_train, y_train)\n",
    "importances = forest.feature_importances_\n",
    "\n",
    "indices = np.argsort(importances)[::-1]\n",
    "\n",
    "\n",
    "from sklearn.feature_selection import SelectFromModel\n",
    "\n",
    "sfm = SelectFromModel(forest, threshold=0.1, prefit=True)\n",
    "X_selected = sfm.transform(X_train)\n",
    "print('Number of samples that meet this criterion:', \n",
    "      X_selected.shape[0])\n",
    "\n",
    "for f in range(X_selected.shape[1]):\n",
    "    print(\"%2d) %-*s %f\" % (f + 1, 30, \n",
    "                            feat_labels[indices[f]], \n",
    "                            importances[indices[f]]))"
   ]
  },
  {
   "cell_type": "markdown",
   "metadata": {},
   "source": [
    "### Building Random Forest Classifier"
   ]
  },
  {
   "cell_type": "code",
   "execution_count": 78,
   "metadata": {},
   "outputs": [
    {
     "name": "stdout",
     "output_type": "stream",
     "text": [
      "Train Accuracy: 0.998\n",
      "Test Accuracy: 0.644\n"
     ]
    }
   ],
   "source": [
    "## Random forest classifier constructed with 25 trees \n",
    "\n",
    "forest = RandomForestClassifier(criterion='gini',\n",
    "                                n_estimators=25,\n",
    "                                max_depth=None,\n",
    "                                random_state=1,\n",
    "                                n_jobs=1)\n",
    "forest.fit(X_train, y_train)\n",
    "#print accuraccy on the training dataset\n",
    "print('Train Accuracy: %.3f' % forest.score(X_train, y_train))\n",
    "#print accuracy on the test dataset\n",
    "print('Test Accuracy: %.3f' % forest.score(X_test, y_test))\n",
    "from sklearn import metrics"
   ]
  },
  {
   "cell_type": "code",
   "execution_count": 54,
   "metadata": {},
   "outputs": [
    {
     "name": "stdout",
     "output_type": "stream",
     "text": [
      "Precision: 0.508\n",
      "Recall: 0.518\n",
      "F1: 0.513\n"
     ]
    }
   ],
   "source": [
    "#running logistic regression\n",
    "\n",
    "from sklearn.linear_model import LogisticRegression\n",
    "\n",
    "lr = LogisticRegression(C=100.0, random_state=1)\n",
    "lr.fit(X_train_std, y_train)\n",
    "\n",
    "## I am not sure this is the right way to call performance scores\n",
    "\n",
    "print('Precision: %.3f' % precision_score(y_true=y_test, y_pred=y_pred))\n",
    "print('Recall: %.3f' % recall_score(y_true=y_test, y_pred=y_pred))\n",
    "print('F1: %.3f' % f1_score(y_true=y_test, y_pred=y_pred))"
   ]
  },
  {
   "cell_type": "code",
   "execution_count": null,
   "metadata": {},
   "outputs": [],
   "source": [
    "# compare different classifiers\n",
    "\n",
    "from sklearn.preprocessing import StandardScaler\n",
    "from sklearn.pipeline import make_pipeline\n",
    "from sklearn.model_selection import cross_val_score\n",
    "\n",
    "from sklearn.linear_model import LogisticRegression\n",
    "from sklearn.ensemble import RandomForestClassifier\n",
    "from sklearn.svm import SVC\n",
    "from sklearn.naive_bayes import GaussianNB\n",
    "from sklearn.neighbors import KNeighborsClassifier\n",
    "\n",
    "classifiers = [\n",
    "    LogisticRegression(),\n",
    "    RandomForestClassifier(),\n",
    "    #SVC(),\n",
    "    #GaussianNB(),\n",
    "    #KNeighborsClassifier()\n",
    "    ]\n",
    "\n",
    "clf_columns = [\n",
    "    'Name',\n",
    "    'CV Train Accuracy',\n",
    "    'CV Test Accuracy',\n",
    "    ]\n",
    "\n",
    "clf_table = pd.DataFrame(columns = clf_columns)\n",
    "\n",
    "for i, clf in enumerate(classifiers):\n",
    "    \n",
    "    clf_name = clf.__class__.__name__\n",
    "    clf_table.loc[i, 'Name'] = clf_name\n",
    "    \n",
    "    pipe = make_pipeline(StandardScaler(), clf)\n",
    "    \n",
    "    cv = cross_val_score(clf, X, y, scoring = ['accuracy', 'precision', 'recall'], cv = 2)\n",
    "    \n",
    "    clf_table.loc[i, 'CV Train Accuracy'] = cv['train_score'].mean()\n",
    "    clf_table.loc[i, 'CV Test Accuracy'] = cv['test_score'].mean()\n",
    "\n",
    "clf_table.sort_values(by = ['CV Test Accuracy'], ascending = False, inplace = True)\n",
    "clf_table, cv"
   ]
  },
  {
   "cell_type": "code",
   "execution_count": 59,
   "metadata": {},
   "outputs": [
    {
     "name": "stdout",
     "output_type": "stream",
     "text": [
      "[[-0.14661019  0.01734798 -0.06385672  0.00057042  0.00310551  0.01767774\n",
      "   0.01711835 -0.05525877  0.00406741 -0.05512987 -0.08024646 -0.00185504\n",
      "   0.0450748  -0.03281989  0.02433204 -0.03935284  0.03108256  0.01927582\n",
      "  -0.03688373  0.02239044  0.03822189 -0.03523752 -0.01296501 -0.05200268\n",
      "   0.05357941  0.05236494  0.00974916 -0.01412944  0.00667845  0.09083273\n",
      "   0.01617727 -0.0277833  -0.01905126 -0.00944473  0.04944878  0.00204319\n",
      "   0.03443883 -0.00118489 -0.00749239  0.02066226  0.01870095  0.02541951\n",
      "   0.02007913 -0.07413139 -0.03127843 -0.01096998 -0.00879967 -0.03018558\n",
      "  -0.00645878  0.00121908  0.05329026  0.04188478 -0.01809087  0.01089972\n",
      "  -0.01999913  0.01099916 -0.00503377 -0.01295522]]\n",
      "Test Accuracy: 0.507\n"
     ]
    }
   ],
   "source": [
    "from sklearn.preprocessing import StandardScaler\n",
    "from sklearn.decomposition import PCA\n",
    "from sklearn.linear_model import LogisticRegression\n",
    "from sklearn.pipeline import make_pipeline\n",
    "\n",
    "pipe_lr = make_pipeline(StandardScaler(),\n",
    "                        PCA(n_components=5),\n",
    "                        LogisticRegression(random_state=1))\n",
    "\n",
    "pipe_lr.fit(X_train, y_train)\n",
    "y_pred = pipe_lr.predict(X_test)\n",
    "print(lr.coef_)\n",
    "print('Test Accuracy: %.3f' % pipe_lr.score(X_test, y_test))"
   ]
  },
  {
   "cell_type": "markdown",
   "metadata": {},
   "source": [
    "### PCA decomposition"
   ]
  },
  {
   "cell_type": "code",
   "execution_count": 46,
   "metadata": {},
   "outputs": [
    {
     "name": "stdout",
     "output_type": "stream",
     "text": [
      "\n",
      "Eigenvalues \n",
      "[ 4.78068298e+00  3.50399214e+00  3.00981886e+00  2.35500242e+00\n",
      "  2.01912362e+00  1.80086724e+00  2.10401127e-02  8.93306519e-02\n",
      "  1.04475470e-01  1.50014068e+00  1.45732075e+00  1.64408612e-01\n",
      "  1.98125788e-01  2.33944789e-01  2.73553804e-01  3.10435934e-01\n",
      "  3.62097935e-01  4.06582582e-01 -1.18230650e-15  6.38317110e-16\n",
      "  4.59051839e-01  4.97545732e-01  5.25656802e-01  5.55237349e-01\n",
      "  1.28212287e+00  6.16675175e-01  6.33514339e-01  1.25599344e+00\n",
      "  6.96459298e-01  7.40802383e-01  7.99364088e-01  1.17916261e+00\n",
      "  8.60481362e-01  1.13130479e+00  8.98224448e-01  1.09662396e+00\n",
      "  1.06678884e+00  1.05399675e+00  9.68367727e-01  9.71266469e-01\n",
      "  1.03468781e+00  1.02683682e+00  1.02052949e+00  1.01291619e+00\n",
      "  1.00848190e+00  1.00530242e+00  1.00415019e+00  1.00304488e+00\n",
      "  1.00195529e+00  1.00135626e+00  1.00097987e+00  1.00067927e+00\n",
      "  1.00045023e+00  1.00034313e+00  1.00008623e+00  1.00013435e+00\n",
      "  1.00019013e+00  1.00023844e+00]\n"
     ]
    },
    {
     "data": {
      "text/plain": [
       "58"
      ]
     },
     "execution_count": 46,
     "metadata": {},
     "output_type": "execute_result"
    }
   ],
   "source": [
    "import numpy as np\n",
    "cov_mat = np.cov(X_train_std.T)\n",
    "eigen_vals, eigen_vecs = np.linalg.eig(cov_mat)\n",
    "\n",
    "print('\\nEigenvalues \\n%s' % eigen_vals)\n",
    "len(eigen_vals)"
   ]
  },
  {
   "cell_type": "code",
   "execution_count": 79,
   "metadata": {},
   "outputs": [],
   "source": [
    "tot = sum(eigen_vals)\n",
    "var_exp = [(i / tot) for i in sorted(eigen_vals, reverse=True)]\n",
    "cum_var_exp = np.cumsum(var_exp)"
   ]
  },
  {
   "cell_type": "code",
   "execution_count": 50,
   "metadata": {},
   "outputs": [
    {
     "data": {
      "image/png": "[encoded data removed]",
      "text/plain": [
       "<Figure size 432x288 with 1 Axes>"
      ]
     },
     "metadata": {},
     "output_type": "display_data"
    }
   ],
   "source": [
    "import matplotlib.pyplot as plt\n",
    "\n",
    "\n",
    "plt.bar(range(0, 58), var_exp, alpha=0.5, align='center',\n",
    "        label='individual explained variance')\n",
    "plt.step(range(0, 58), cum_var_exp, where='mid',\n",
    "         label='cumulative explained variance')\n",
    "plt.ylabel('Explained variance ratio')\n",
    "plt.xlabel('Principal component index')\n",
    "plt.legend(loc='best')\n",
    "plt.tight_layout()\n",
    "# plt.savefig('images/05_02.png', dpi=300)\n",
    "plt.show()"
   ]
  },
  {
   "cell_type": "markdown",
   "metadata": {},
   "source": [
    "## Combining transformers and estimators in a pipeline"
   ]
  },
  {
   "cell_type": "code",
   "execution_count": 57,
   "metadata": {},
   "outputs": [
    {
     "name": "stdout",
     "output_type": "stream",
     "text": [
      "Test Accuracy: 0.505\n"
     ]
    }
   ],
   "source": [
    "from sklearn.preprocessing import StandardScaler\n",
    "from sklearn.decomposition import PCA\n",
    "from sklearn.linear_model import LogisticRegression\n",
    "from sklearn.pipeline import make_pipeline\n",
    "\n",
    "pipe_lr = make_pipeline(StandardScaler(),\n",
    "                        PCA(n_components=2),\n",
    "                        LogisticRegression(random_state=1))\n",
    "\n",
    "pipe_lr.fit(X_train, y_train)\n",
    "y_pred = pipe_lr.predict(X_test)\n",
    "print('Test Accuracy: %.3f' % pipe_lr.score(X_test, y_test))"
   ]
  },
  {
   "cell_type": "code",
   "execution_count": 58,
   "metadata": {},
   "outputs": [
    {
     "name": "stdout",
     "output_type": "stream",
     "text": [
      "CV accuracy scores: [0.5088956  0.48573347 0.50520309 0.49580396 0.49395567 0.5077233\n",
      " 0.51947616 0.50470114 0.49546523 0.48740343]\n",
      "CV accuracy: 0.500 +/- 0.010\n"
     ]
    }
   ],
   "source": [
    "from sklearn.model_selection import cross_val_score\n",
    "\n",
    "scores = cross_val_score(estimator=pipe_lr,\n",
    "                         X=X_train,\n",
    "                         y=y_train,\n",
    "                         cv=10,\n",
    "                         n_jobs=1)\n",
    "print('CV accuracy scores: %s' % scores)\n",
    "print('CV accuracy: %.3f +/- %.3f' % (np.mean(scores), np.std(scores)))"
   ]
  },
  {
   "cell_type": "markdown",
   "metadata": {},
   "source": [
    "### Create interaction terms"
   ]
  },
  {
   "cell_type": "code",
   "execution_count": 103,
   "metadata": {},
   "outputs": [],
   "source": [
    "data=df[['ESS','AES']]\n",
    "data.columns"
   ]
  },
  {
   "cell_type": "code",
   "execution_count": 114,
   "metadata": {},
   "outputs": [
    {
     "data": {
      "text/plain": [
       "array([[  41.,   29., 1189.],\n",
       "       [  41.,   29., 1189.],\n",
       "       [  50.,   28., 1400.],\n",
       "       ...,\n",
       "       [  19.,   38.,  722.],\n",
       "       [  19.,   37.,  703.],\n",
       "       [  19.,   36.,  684.]])"
      ]
     },
     "execution_count": 114,
     "metadata": {},
     "output_type": "execute_result"
    }
   ],
   "source": [
    "from sklearn.preprocessing import PolynomialFeatures\n",
    "x_t = PolynomialFeatures(2, interaction_only=True, include_bias=False).fit_transform(data)\n",
    "x_t"
   ]
  }
 ],
 "metadata": {
  "kernelspec": {
   "display_name": "Python 3",
   "language": "python",
   "name": "python3"
  },
  "language_info": {
   "codemirror_mode": {
    "name": "ipython",
    "version": 3
   },
   "file_extension": ".py",
   "mimetype": "text/x-python",
   "name": "python",
   "nbconvert_exporter": "python",
   "pygments_lexer": "ipython3",
   "version": "3.7.0"
  }
 },
 "nbformat": 4,
 "nbformat_minor": 2
}
